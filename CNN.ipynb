{
 "cells": [
  {
   "cell_type": "markdown",
   "metadata": {},
   "source": [
    "from scipy.fft import fft\n",
    "import torch \n",
    "import pickle\n",
    "import matplotlib.pyplot as plt\n",
    "\n",
    "# Load the dataset\n",
    "\n",
    "with open ('interaction_matrices.pkl', 'rb') as int_matrices:\n",
    "    interaction_matrices = pickle.load(int_matrices)\n",
    "\n",
    "with open ('spectra_dataset.pkl', 'rb') as spec_dataset:\n",
    "    spec_dataset = pickle.load(spec_dataset)\n",
    "\n",
    "\n",
    "# converting the dataset to numpy arrays\n",
    "\n",
    "interaction_matrices = interaction_matrices.numpy()\n",
    "spec_dataset = spec_dataset.numpy()"
   ]
  },
  {
   "cell_type": "markdown",
   "metadata": {},
   "source": [
    "print(spec_dataset.shape)\n",
    "print(interaction_matrices.shape)\n",
    "\n",
    "# data is in good shape \n",
    "# NMF Y ~ WH\n",
    "# Y is the dataset\n",
    "# W IS THE BASIS MATRIX AND H IS THE COEFFICIENT MATRIX\n",
    "\n"
   ]
  },
  {
   "cell_type": "markdown",
   "metadata": {},
   "source": [
    "from sklearn.decomposition import NMF\n",
    "import numpy as np\n",
    "import seaborn as sns\n",
    "\n",
    "selected_spec = spec_dataset[:10000,:]\n",
    "print(selected_spec.shape)\n",
    "\n",
    "model = NMF(n_components=75, init='nndsvd', random_state=40, max_iter=200, beta_loss='frobenius')\n",
    "W = model.fit_transform(selected_spec)\n",
    "H = model.components_\n",
    "\n",
    "approximation = np.dot(W,H)\n",
    "\n",
    "reconstruction_error = np.linalg.norm(selected_spec - approximation, 'fro')\n",
    "print(\"Forbenius norm error:\", reconstruction_error)"
   ]
  },
  {
   "cell_type": "markdown",
   "metadata": {},
   "source": [
    "# Select a few spectra to plot\n",
    "spectra_indices = [5000]  # For example, the first, 11th, and 21st spectra\n",
    "\n",
    "plt.figure(figsize=(10, 6))\n",
    "\n",
    "for idx in spectra_indices:\n",
    "    plt.plot(selected_spec[idx, :], label=f'Original Spectrum {idx+1}')\n",
    "    plt.plot(approximation[idx, :], label=f'Reconstructed Spectrum {idx+1}', linestyle='--')\n",
    "\n",
    "plt.legend()\n",
    "plt.title('Comparison of Original and Reconstructed Spectra')\n",
    "plt.xlabel('m/z Values')\n",
    "plt.ylabel('Intensity')\n",
    "plt.show()\n",
    "\n",
    "plt.figure(figsize=(10, 6))\n",
    "plt.plot(spec_dataset[5000,:])\n",
    "plt.title('Original Spectrum')  \n",
    "plt.xlabel('m/z Values')\n",
    "plt.ylabel('Intensity')\n"
   ]
  },
  {
   "cell_type": "code",
   "execution_count": 1,
   "metadata": {},
   "outputs": [
    {
     "name": "stdout",
     "output_type": "stream",
     "text": [
      "cpu\n",
      "torch.Size([10000, 6, 6])\n",
      "torch.Size([10000, 2000])\n",
      "torch.Size([10000, 36])\n",
      "tensor([[0., 4., 2., 0., 0., 0., 2., 5., 0., 0., 0., 3., 2., 2., 0., 1., 6., 0.,\n",
      "         4., 1., 4., 0., 6., 0., 0., 1., 1., 0., 0., 0., 5., 5., 0., 0., 0., 3.],\n",
      "        [0., 0., 0., 0., 6., 2., 4., 6., 4., 3., 0., 1., 0., 3., 2., 5., 6., 3.,\n",
      "         6., 1., 1., 0., 0., 0., 0., 0., 4., 6., 3., 0., 0., 0., 2., 6., 2., 3.],\n",
      "        [0., 0., 5., 5., 0., 0., 0., 0., 6., 6., 3., 2., 4., 0., 0., 4., 6., 0.,\n",
      "         6., 1., 0., 0., 1., 4., 0., 0., 2., 0., 0., 6., 2., 0., 2., 0., 1., 6.],\n",
      "        [0., 0., 0., 1., 6., 0., 0., 0., 3., 0., 0., 0., 2., 0., 3., 0., 0., 3.,\n",
      "         3., 0., 3., 0., 5., 6., 2., 3., 0., 0., 0., 4., 0., 0., 1., 0., 5., 0.],\n",
      "        [0., 3., 0., 5., 0., 3., 5., 0., 0., 2., 3., 0., 2., 6., 2., 4., 0., 0.,\n",
      "         3., 0., 0., 0., 0., 0., 0., 0., 1., 1., 0., 2., 0., 0., 0., 0., 0., 0.],\n",
      "        [0., 0., 0., 0., 5., 0., 2., 0., 0., 0., 1., 0., 3., 4., 0., 6., 0., 0.,\n",
      "         2., 3., 0., 5., 0., 0., 5., 0., 0., 0., 0., 1., 0., 3., 0., 0., 6., 0.],\n",
      "        [0., 0., 2., 0., 0., 4., 0., 0., 1., 0., 0., 0., 1., 2., 6., 0., 1., 0.,\n",
      "         0., 0., 0., 4., 0., 0., 0., 0., 0., 0., 0., 5., 0., 4., 0., 0., 6., 0.],\n",
      "        [0., 6., 0., 0., 0., 0., 0., 6., 0., 0., 0., 0., 6., 2., 0., 3., 4., 0.,\n",
      "         4., 0., 0., 5., 0., 0., 1., 0., 0., 0., 3., 1., 0., 6., 0., 0., 0., 6.],\n",
      "        [0., 5., 5., 0., 3., 1., 0., 5., 5., 0., 0., 5., 5., 3., 4., 0., 0., 5.,\n",
      "         1., 5., 6., 6., 0., 2., 0., 1., 0., 0., 3., 0., 0., 5., 3., 0., 0., 2.],\n",
      "        [0., 0., 0., 0., 6., 0., 0., 1., 5., 6., 0., 5., 6., 0., 0., 0., 0., 0.,\n",
      "         3., 0., 4., 6., 0., 3., 0., 3., 3., 0., 0., 4., 2., 0., 1., 5., 0., 0.]])\n"
     ]
    }
   ],
   "source": [
    "import numpy as np\n",
    "import pickle as pkl\n",
    "import torch\n",
    "from sklearn.model_selection import train_test_split\n",
    "import torch.nn as nn   \n",
    "import time\n",
    "import torch.optim as optim\n",
    "import torch\n",
    "from torch.utils.data import TensorDataset, DataLoader\n",
    "\n",
    "device = torch.device(\"cuda\" if torch.cuda.is_available() else \"cpu\")\n",
    "print(device)\n",
    "\n",
    "def load_data(path):\n",
    "    with open(path, 'rb') as f:\n",
    "        data = pkl.load(f)\n",
    "    return data\n",
    "\n",
    "# Load the data\n",
    "Interaction_matrices = load_data('interaction_matrices_10binned.pkl')\n",
    "spectral_data = load_data('spectra_dataset_10binned.pkl')\n",
    "\n",
    "print(Interaction_matrices.shape)\n",
    "print(spectral_data.shape)\n",
    "\n",
    "import numpy as np\n",
    "import torch\n",
    "\n",
    "# Flatten each matrix separately then store in an array\n",
    "flattened_matrices = [matrix.flatten() for matrix in Interaction_matrices]\n",
    "\n",
    "# Stack the flattened matrices on top to give shape N x 36\n",
    "flattened_matrix = torch.stack(flattened_matrices)\n",
    "print(flattened_matrix.shape)\n",
    "\n",
    "print(flattened_matrix[0:10]) ## fine. \n",
    "\n",
    "import torch \n",
    "import numpy\n",
    "\n",
    "threshold = 0.5\n",
    "\n",
    "binary_flat_matrices = (flattened_matrix >= threshold).float()\n",
    "\n",
    "\n",
    "# making them flat instead of including \n",
    "# abundance as that is not important for now and requires more\n",
    "\n",
    "for matrix in binary_flat_matrices:\n",
    "  for i in range (len(matrix)):\n",
    "    value = matrix[i]\n",
    "\n"
   ]
  },
  {
   "cell_type": "code",
   "execution_count": 3,
   "metadata": {},
   "outputs": [
    {
     "name": "stdout",
     "output_type": "stream",
     "text": [
      "tensor([0., 0., 0., 0., 6., 2., 4., 6., 4., 3., 0., 1., 0., 3., 2., 5., 6., 3.,\n",
      "        6., 1., 1., 0., 0., 0., 0., 0., 4., 6., 3., 0., 0., 0., 2., 6., 2., 3.])\n",
      "tensor([0., 0., 0., 0., 1., 1., 1., 1., 1., 1., 0., 1., 0., 1., 1., 1., 1., 1.,\n",
      "        1., 1., 1., 0., 0., 0., 0., 0., 1., 1., 1., 0., 0., 0., 1., 1., 1., 1.])\n",
      "(10000, 36)\n",
      "      PA0PB0  PA0PB1  PA0PB2  PA0PB3  PA0PB4  PA0PB5  PA1PB0  PA1PB1  PA1PB2  \\\n",
      "0        0.0     1.0     1.0     0.0     0.0     0.0     1.0     1.0     0.0   \n",
      "1        0.0     0.0     0.0     0.0     1.0     1.0     1.0     1.0     1.0   \n",
      "2        0.0     0.0     1.0     1.0     0.0     0.0     0.0     0.0     1.0   \n",
      "3        0.0     0.0     0.0     1.0     1.0     0.0     0.0     0.0     1.0   \n",
      "4        0.0     1.0     0.0     1.0     0.0     1.0     1.0     0.0     0.0   \n",
      "...      ...     ...     ...     ...     ...     ...     ...     ...     ...   \n",
      "9995     0.0     1.0     0.0     1.0     0.0     1.0     0.0     0.0     0.0   \n",
      "9996     0.0     0.0     1.0     0.0     1.0     1.0     1.0     1.0     1.0   \n",
      "9997     0.0     1.0     0.0     0.0     1.0     0.0     1.0     0.0     0.0   \n",
      "9998     0.0     1.0     1.0     1.0     1.0     1.0     0.0     1.0     0.0   \n",
      "9999     0.0     0.0     0.0     1.0     0.0     1.0     1.0     1.0     0.0   \n",
      "\n",
      "      PA1PB3  ...  PA4PB2  PA4PB3  PA4PB4  PA4PB5  PA5PB0  PA5PB1  PA5PB2  \\\n",
      "0        0.0  ...     1.0     0.0     0.0     0.0     1.0     1.0     0.0   \n",
      "1        1.0  ...     1.0     1.0     1.0     0.0     0.0     0.0     1.0   \n",
      "2        1.0  ...     1.0     0.0     0.0     1.0     1.0     0.0     1.0   \n",
      "3        0.0  ...     0.0     0.0     0.0     1.0     0.0     0.0     1.0   \n",
      "4        1.0  ...     1.0     1.0     0.0     1.0     0.0     0.0     0.0   \n",
      "...      ...  ...     ...     ...     ...     ...     ...     ...     ...   \n",
      "9995     1.0  ...     0.0     0.0     1.0     0.0     0.0     1.0     1.0   \n",
      "9996     1.0  ...     0.0     1.0     0.0     1.0     0.0     1.0     0.0   \n",
      "9997     0.0  ...     1.0     1.0     0.0     1.0     1.0     0.0     0.0   \n",
      "9998     1.0  ...     0.0     1.0     0.0     1.0     0.0     1.0     0.0   \n",
      "9999     1.0  ...     0.0     0.0     1.0     1.0     0.0     0.0     0.0   \n",
      "\n",
      "      PA5PB3  PA5PB4  PA5PB5  \n",
      "0        0.0     0.0     1.0  \n",
      "1        1.0     1.0     1.0  \n",
      "2        0.0     1.0     1.0  \n",
      "3        0.0     1.0     0.0  \n",
      "4        0.0     0.0     0.0  \n",
      "...      ...     ...     ...  \n",
      "9995     0.0     1.0     0.0  \n",
      "9996     0.0     0.0     0.0  \n",
      "9997     1.0     0.0     1.0  \n",
      "9998     1.0     0.0     0.0  \n",
      "9999     0.0     0.0     1.0  \n",
      "\n",
      "[10000 rows x 36 columns]\n",
      "(10000, 2000)\n"
     ]
    }
   ],
   "source": [
    "print(flattened_matrix[1])\n",
    "print(binary_flat_matrices[1])\n",
    "\n",
    "import pandas as pd\n",
    "import torch\n",
    "import numpy as np\n",
    "\n",
    "\n",
    "# need to turn tensors to pandas df then append my flattened matrices to the end.\n",
    "matrix_columns = [f'PA{i // 6}PB{i % 6}' for i in range(len(flattened_matrices[0]))]\n",
    "\n",
    "bnry_int_mat_df = pd.DataFrame(binary_flat_matrices, columns = matrix_columns)\n",
    "print(bnry_int_mat_df.shape)\n",
    "print(bnry_int_mat_df)\n",
    "spec_df = pd.DataFrame(spectral_data)\n",
    "print(spec_df.shape)\n",
    "\n",
    "# next  concat the two together \n",
    "import pandas as pd\n",
    "\n",
    "\n",
    "\n",
    "concat_df = pd.concat([spec_df, bnry_int_mat_df], axis =1)\n",
    "\n",
    "# pre process data some more\n",
    "\n",
    "X_spec = concat_df.iloc[:, :2000].values # spectra data\n",
    "Y_matr = concat_df.iloc[:, 2000:].values # matrices "
   ]
  },
  {
   "cell_type": "code",
   "execution_count": 4,
   "metadata": {},
   "outputs": [],
   "source": [
    "import torch\n",
    "import torch.nn as nn\n",
    "from sklearn.model_selection import train_test_split\n",
    "\n",
    "# splitting into train test val split 80, 20 \n",
    "X_train, X_test, y_train, y_test = train_test_split(X_spec, Y_matr, test_size=0.2, random_state=42)\n",
    "X_test, X_val, y_test, y_val = train_test_split(X_test, y_test, test_size=0.2, random_state=42)\n"
   ]
  },
  {
   "cell_type": "code",
   "execution_count": 7,
   "metadata": {},
   "outputs": [
    {
     "name": "stdout",
     "output_type": "stream",
     "text": [
      "Training Set: (10000, 2000) torch.Size([8000, 36])\n",
      "Validation Set: torch.Size([400, 2000]) torch.Size([400, 36])\n",
      "Test Set: torch.Size([1600, 2000]) torch.Size([1600, 36])\n"
     ]
    }
   ],
   "source": [
    "print(\"Training Set:\", X_spec.shape, y_train.shape)\n",
    "print(\"Validation Set:\", X_val.shape, y_val.shape)\n",
    "print(\"Test Set:\", X_test.shape, y_test.shape)\n",
    "\n",
    "\n",
    "import torch \n",
    "from torch.utils.data import DataLoader, TensorDataset\n",
    "\n",
    "X_train = torch.Tensor(X_train).to(device)\n",
    "X_test = torch.Tensor(X_test).to(device)\n",
    "X_val = torch.Tensor(X_val).to(device)\n",
    "y_val= torch.Tensor(y_val).to(device)\n",
    "y_train = torch.Tensor(y_train).to(device)\n",
    "y_test = torch.Tensor(y_test).to(device)\n",
    "\n",
    "\n",
    "batch_size = 512\n",
    "train_dataset = TensorDataset(X_train, y_train)\n",
    "val_dataset = TensorDataset(X_val, y_val)\n",
    "test_dataset = TensorDataset(X_test, y_test)\n",
    "train_loader = DataLoader(train_dataset, batch_size=batch_size, shuffle=True)\n",
    "val_loader = DataLoader(val_dataset, batch_size=batch_size, shuffle=True)\n",
    "test_loader = DataLoader(test_dataset, batch_size=batch_size, shuffle=True)"
   ]
  },
  {
   "cell_type": "code",
   "execution_count": 19,
   "metadata": {},
   "outputs": [
    {
     "name": "stdout",
     "output_type": "stream",
     "text": [
      "torch.Size([512, 2000]) torch.Size([512, 36])\n"
     ]
    }
   ],
   "source": [
    "for x, y in train_loader:\n",
    "    print(x.shape, y.shape)\n",
    "    break"
   ]
  },
  {
   "cell_type": "code",
   "execution_count": 21,
   "metadata": {},
   "outputs": [],
   "source": [
    "import torch\n",
    "import torch.nn as nn\n",
    "\n",
    "seed = 42  # Choose any integer value as the seed\n",
    "torch.manual_seed(seed)\n",
    "\n",
    "class SpectralCNN(nn.Module):\n",
    "    def __init__(self, num_classes):\n",
    "        super(SpectralCNN, self).__init__()\n",
    "        self.conv1 = nn.Conv1d(1, 16, kernel_size=3, padding=1)\n",
    "        self.relu1 = nn.ReLU()\n",
    "        self.pool1 = nn.MaxPool1d(2)\n",
    "        \n",
    "        self.conv2 = nn.Conv1d(16, 32, kernel_size=3, padding=1)\n",
    "        self.relu2 = nn.ReLU()\n",
    "        self.pool2 = nn.MaxPool1d(2)\n",
    "        \n",
    "        self.conv3 = nn.Conv1d(32, 64, kernel_size=3, padding=1)\n",
    "        self.relu3 = nn.ReLU()\n",
    "        self.pool3 = nn.MaxPool1d(2)\n",
    "        \n",
    "        self.flatten = nn.Flatten()\n",
    "        self.fc1 = nn.Linear(64 * 250, 128)\n",
    "        self.relu4 = nn.ReLU()\n",
    "        self.dropout = nn.Dropout(0.5)\n",
    "        self.fc2 = nn.Linear(128, num_classes)\n",
    "        self.sigmoid = nn.Sigmoid()\n",
    "        \n",
    "    def forward(self, x):\n",
    "        x = x.unsqueeze(1)  # Add channel dimension\n",
    "        \n",
    "        x = self.conv1(x)\n",
    "        x = self.relu1(x)\n",
    "        x = self.pool1(x)\n",
    "        \n",
    "        x = self.conv2(x)\n",
    "        x = self.relu2(x)\n",
    "        x = self.pool2(x)\n",
    "        \n",
    "        x = self.conv3(x)\n",
    "        x = self.relu3(x)\n",
    "        x = self.pool3(x)\n",
    "        \n",
    "        x = self.flatten(x)\n",
    "        x = self.fc1(x)\n",
    "        x = self.relu4(x)\n",
    "        x = self.dropout(x)\n",
    "        x = self.fc2(x)\n",
    "        x = self.sigmoid(x)\n",
    "        \n",
    "        return x"
   ]
  },
  {
   "cell_type": "code",
   "execution_count": 28,
   "metadata": {},
   "outputs": [],
   "source": [
    "model = SpectralCNN(num_classes=36).to(device)\n",
    "criterion = nn.BCELoss()\n",
    "optimizer = torch.optim.Adam(model.parameters(), lr=0.001)"
   ]
  },
  {
   "cell_type": "code",
   "execution_count": 31,
   "metadata": {},
   "outputs": [
    {
     "name": "stdout",
     "output_type": "stream",
     "text": [
      "SpectralCNN(\n",
      "  (conv1): Conv1d(1, 16, kernel_size=(3,), stride=(1,), padding=(1,))\n",
      "  (relu1): ReLU()\n",
      "  (pool1): MaxPool1d(kernel_size=2, stride=2, padding=0, dilation=1, ceil_mode=False)\n",
      "  (conv2): Conv1d(16, 32, kernel_size=(3,), stride=(1,), padding=(1,))\n",
      "  (relu2): ReLU()\n",
      "  (pool2): MaxPool1d(kernel_size=2, stride=2, padding=0, dilation=1, ceil_mode=False)\n",
      "  (conv3): Conv1d(32, 64, kernel_size=(3,), stride=(1,), padding=(1,))\n",
      "  (relu3): ReLU()\n",
      "  (pool3): MaxPool1d(kernel_size=2, stride=2, padding=0, dilation=1, ceil_mode=False)\n",
      "  (flatten): Flatten(start_dim=1, end_dim=-1)\n",
      "  (fc1): Linear(in_features=16000, out_features=128, bias=True)\n",
      "  (relu4): ReLU()\n",
      "  (dropout): Dropout(p=0.5, inplace=False)\n",
      "  (fc2): Linear(in_features=128, out_features=36, bias=True)\n",
      "  (sigmoid): Sigmoid()\n",
      ")\n"
     ]
    }
   ],
   "source": [
    "print(model)"
   ]
  },
  {
   "cell_type": "code",
   "execution_count": 29,
   "metadata": {},
   "outputs": [],
   "source": [
    "epoch_losses = []\n",
    "epoch_accuracies = []"
   ]
  },
  {
   "cell_type": "code",
   "execution_count": 30,
   "metadata": {},
   "outputs": [
    {
     "name": "stdout",
     "output_type": "stream",
     "text": [
      "Epoch [1/100], Loss: 0.6879, Accuracy: 0.00%\n",
      "Epoch [2/100], Loss: 0.6836, Accuracy: 0.00%\n",
      "Epoch [3/100], Loss: 0.6814, Accuracy: 0.00%\n",
      "Epoch [4/100], Loss: 0.6802, Accuracy: 0.00%\n",
      "Epoch [5/100], Loss: 0.6789, Accuracy: 0.00%\n",
      "Epoch [6/100], Loss: 0.6781, Accuracy: 0.00%\n",
      "Epoch [7/100], Loss: 0.6770, Accuracy: 0.00%\n",
      "Epoch [8/100], Loss: 0.6765, Accuracy: 0.00%\n",
      "Epoch [9/100], Loss: 0.6759, Accuracy: 0.00%\n",
      "Epoch [10/100], Loss: 0.6755, Accuracy: 0.00%\n",
      "Saved model to: spectral_net_model.pth\n",
      "Epoch [11/100], Loss: 0.6751, Accuracy: 0.00%\n",
      "Epoch [12/100], Loss: 0.6751, Accuracy: 0.00%\n",
      "Epoch [13/100], Loss: 0.6748, Accuracy: 0.00%\n",
      "Epoch [14/100], Loss: 0.6746, Accuracy: 0.00%\n",
      "Epoch [15/100], Loss: 0.6746, Accuracy: 0.00%\n",
      "Epoch [16/100], Loss: 0.6745, Accuracy: 0.00%\n",
      "Epoch [17/100], Loss: 0.6745, Accuracy: 0.00%\n",
      "Epoch [18/100], Loss: 0.6745, Accuracy: 0.00%\n",
      "Epoch [19/100], Loss: 0.6744, Accuracy: 0.00%\n",
      "Epoch [20/100], Loss: 0.6744, Accuracy: 0.00%\n",
      "Saved model to: spectral_net_model.pth\n",
      "Epoch [21/100], Loss: 0.6743, Accuracy: 0.00%\n",
      "Epoch [22/100], Loss: 0.6744, Accuracy: 0.00%\n",
      "Epoch [23/100], Loss: 0.6743, Accuracy: 0.00%\n",
      "Epoch [24/100], Loss: 0.6743, Accuracy: 0.00%\n",
      "Epoch [25/100], Loss: 0.6742, Accuracy: 0.00%\n",
      "Epoch [26/100], Loss: 0.6743, Accuracy: 0.00%\n",
      "Epoch [27/100], Loss: 0.6743, Accuracy: 0.00%\n",
      "Epoch [28/100], Loss: 0.6743, Accuracy: 0.00%\n",
      "Epoch [29/100], Loss: 0.6743, Accuracy: 0.00%\n",
      "Epoch [30/100], Loss: 0.6742, Accuracy: 0.00%\n",
      "Saved model to: spectral_net_model.pth\n"
     ]
    },
    {
     "ename": "KeyboardInterrupt",
     "evalue": "",
     "output_type": "error",
     "traceback": [
      "\u001b[0;31m---------------------------------------------------------------------------\u001b[0m",
      "\u001b[0;31mKeyboardInterrupt\u001b[0m                         Traceback (most recent call last)",
      "Cell \u001b[0;32mIn[30], line 13\u001b[0m\n\u001b[1;32m     11\u001b[0m batch_data, batch_labels \u001b[38;5;241m=\u001b[39m batch_data\u001b[38;5;241m.\u001b[39mto(device), batch_labels\u001b[38;5;241m.\u001b[39mto(device)\n\u001b[1;32m     12\u001b[0m optimizer\u001b[38;5;241m.\u001b[39mzero_grad()\n\u001b[0;32m---> 13\u001b[0m outputs \u001b[38;5;241m=\u001b[39m \u001b[43mmodel\u001b[49m\u001b[43m(\u001b[49m\u001b[43mbatch_data\u001b[49m\u001b[43m)\u001b[49m\n\u001b[1;32m     14\u001b[0m loss \u001b[38;5;241m=\u001b[39m criterion(outputs, batch_labels)\n\u001b[1;32m     15\u001b[0m epoch_loss \u001b[38;5;241m+\u001b[39m\u001b[38;5;241m=\u001b[39m loss\u001b[38;5;241m.\u001b[39mitem()\n",
      "File \u001b[0;32m~/anaconda3/envs/Mass_Spec/lib/python3.11/site-packages/torch/nn/modules/module.py:1532\u001b[0m, in \u001b[0;36mModule._wrapped_call_impl\u001b[0;34m(self, *args, **kwargs)\u001b[0m\n\u001b[1;32m   1530\u001b[0m     \u001b[38;5;28;01mreturn\u001b[39;00m \u001b[38;5;28mself\u001b[39m\u001b[38;5;241m.\u001b[39m_compiled_call_impl(\u001b[38;5;241m*\u001b[39margs, \u001b[38;5;241m*\u001b[39m\u001b[38;5;241m*\u001b[39mkwargs)  \u001b[38;5;66;03m# type: ignore[misc]\u001b[39;00m\n\u001b[1;32m   1531\u001b[0m \u001b[38;5;28;01melse\u001b[39;00m:\n\u001b[0;32m-> 1532\u001b[0m     \u001b[38;5;28;01mreturn\u001b[39;00m \u001b[38;5;28;43mself\u001b[39;49m\u001b[38;5;241;43m.\u001b[39;49m\u001b[43m_call_impl\u001b[49m\u001b[43m(\u001b[49m\u001b[38;5;241;43m*\u001b[39;49m\u001b[43margs\u001b[49m\u001b[43m,\u001b[49m\u001b[43m \u001b[49m\u001b[38;5;241;43m*\u001b[39;49m\u001b[38;5;241;43m*\u001b[39;49m\u001b[43mkwargs\u001b[49m\u001b[43m)\u001b[49m\n",
      "File \u001b[0;32m~/anaconda3/envs/Mass_Spec/lib/python3.11/site-packages/torch/nn/modules/module.py:1541\u001b[0m, in \u001b[0;36mModule._call_impl\u001b[0;34m(self, *args, **kwargs)\u001b[0m\n\u001b[1;32m   1536\u001b[0m \u001b[38;5;66;03m# If we don't have any hooks, we want to skip the rest of the logic in\u001b[39;00m\n\u001b[1;32m   1537\u001b[0m \u001b[38;5;66;03m# this function, and just call forward.\u001b[39;00m\n\u001b[1;32m   1538\u001b[0m \u001b[38;5;28;01mif\u001b[39;00m \u001b[38;5;129;01mnot\u001b[39;00m (\u001b[38;5;28mself\u001b[39m\u001b[38;5;241m.\u001b[39m_backward_hooks \u001b[38;5;129;01mor\u001b[39;00m \u001b[38;5;28mself\u001b[39m\u001b[38;5;241m.\u001b[39m_backward_pre_hooks \u001b[38;5;129;01mor\u001b[39;00m \u001b[38;5;28mself\u001b[39m\u001b[38;5;241m.\u001b[39m_forward_hooks \u001b[38;5;129;01mor\u001b[39;00m \u001b[38;5;28mself\u001b[39m\u001b[38;5;241m.\u001b[39m_forward_pre_hooks\n\u001b[1;32m   1539\u001b[0m         \u001b[38;5;129;01mor\u001b[39;00m _global_backward_pre_hooks \u001b[38;5;129;01mor\u001b[39;00m _global_backward_hooks\n\u001b[1;32m   1540\u001b[0m         \u001b[38;5;129;01mor\u001b[39;00m _global_forward_hooks \u001b[38;5;129;01mor\u001b[39;00m _global_forward_pre_hooks):\n\u001b[0;32m-> 1541\u001b[0m     \u001b[38;5;28;01mreturn\u001b[39;00m \u001b[43mforward_call\u001b[49m\u001b[43m(\u001b[49m\u001b[38;5;241;43m*\u001b[39;49m\u001b[43margs\u001b[49m\u001b[43m,\u001b[49m\u001b[43m \u001b[49m\u001b[38;5;241;43m*\u001b[39;49m\u001b[38;5;241;43m*\u001b[39;49m\u001b[43mkwargs\u001b[49m\u001b[43m)\u001b[49m\n\u001b[1;32m   1543\u001b[0m \u001b[38;5;28;01mtry\u001b[39;00m:\n\u001b[1;32m   1544\u001b[0m     result \u001b[38;5;241m=\u001b[39m \u001b[38;5;28;01mNone\u001b[39;00m\n",
      "Cell \u001b[0;32mIn[21], line 37\u001b[0m, in \u001b[0;36mSpectralCNN.forward\u001b[0;34m(self, x)\u001b[0m\n\u001b[1;32m     34\u001b[0m x \u001b[38;5;241m=\u001b[39m \u001b[38;5;28mself\u001b[39m\u001b[38;5;241m.\u001b[39mrelu2(x)\n\u001b[1;32m     35\u001b[0m x \u001b[38;5;241m=\u001b[39m \u001b[38;5;28mself\u001b[39m\u001b[38;5;241m.\u001b[39mpool2(x)\n\u001b[0;32m---> 37\u001b[0m x \u001b[38;5;241m=\u001b[39m \u001b[38;5;28;43mself\u001b[39;49m\u001b[38;5;241;43m.\u001b[39;49m\u001b[43mconv3\u001b[49m\u001b[43m(\u001b[49m\u001b[43mx\u001b[49m\u001b[43m)\u001b[49m\n\u001b[1;32m     38\u001b[0m x \u001b[38;5;241m=\u001b[39m \u001b[38;5;28mself\u001b[39m\u001b[38;5;241m.\u001b[39mrelu3(x)\n\u001b[1;32m     39\u001b[0m x \u001b[38;5;241m=\u001b[39m \u001b[38;5;28mself\u001b[39m\u001b[38;5;241m.\u001b[39mpool3(x)\n",
      "File \u001b[0;32m~/anaconda3/envs/Mass_Spec/lib/python3.11/site-packages/torch/nn/modules/module.py:1532\u001b[0m, in \u001b[0;36mModule._wrapped_call_impl\u001b[0;34m(self, *args, **kwargs)\u001b[0m\n\u001b[1;32m   1530\u001b[0m     \u001b[38;5;28;01mreturn\u001b[39;00m \u001b[38;5;28mself\u001b[39m\u001b[38;5;241m.\u001b[39m_compiled_call_impl(\u001b[38;5;241m*\u001b[39margs, \u001b[38;5;241m*\u001b[39m\u001b[38;5;241m*\u001b[39mkwargs)  \u001b[38;5;66;03m# type: ignore[misc]\u001b[39;00m\n\u001b[1;32m   1531\u001b[0m \u001b[38;5;28;01melse\u001b[39;00m:\n\u001b[0;32m-> 1532\u001b[0m     \u001b[38;5;28;01mreturn\u001b[39;00m \u001b[38;5;28;43mself\u001b[39;49m\u001b[38;5;241;43m.\u001b[39;49m\u001b[43m_call_impl\u001b[49m\u001b[43m(\u001b[49m\u001b[38;5;241;43m*\u001b[39;49m\u001b[43margs\u001b[49m\u001b[43m,\u001b[49m\u001b[43m \u001b[49m\u001b[38;5;241;43m*\u001b[39;49m\u001b[38;5;241;43m*\u001b[39;49m\u001b[43mkwargs\u001b[49m\u001b[43m)\u001b[49m\n",
      "File \u001b[0;32m~/anaconda3/envs/Mass_Spec/lib/python3.11/site-packages/torch/nn/modules/module.py:1541\u001b[0m, in \u001b[0;36mModule._call_impl\u001b[0;34m(self, *args, **kwargs)\u001b[0m\n\u001b[1;32m   1536\u001b[0m \u001b[38;5;66;03m# If we don't have any hooks, we want to skip the rest of the logic in\u001b[39;00m\n\u001b[1;32m   1537\u001b[0m \u001b[38;5;66;03m# this function, and just call forward.\u001b[39;00m\n\u001b[1;32m   1538\u001b[0m \u001b[38;5;28;01mif\u001b[39;00m \u001b[38;5;129;01mnot\u001b[39;00m (\u001b[38;5;28mself\u001b[39m\u001b[38;5;241m.\u001b[39m_backward_hooks \u001b[38;5;129;01mor\u001b[39;00m \u001b[38;5;28mself\u001b[39m\u001b[38;5;241m.\u001b[39m_backward_pre_hooks \u001b[38;5;129;01mor\u001b[39;00m \u001b[38;5;28mself\u001b[39m\u001b[38;5;241m.\u001b[39m_forward_hooks \u001b[38;5;129;01mor\u001b[39;00m \u001b[38;5;28mself\u001b[39m\u001b[38;5;241m.\u001b[39m_forward_pre_hooks\n\u001b[1;32m   1539\u001b[0m         \u001b[38;5;129;01mor\u001b[39;00m _global_backward_pre_hooks \u001b[38;5;129;01mor\u001b[39;00m _global_backward_hooks\n\u001b[1;32m   1540\u001b[0m         \u001b[38;5;129;01mor\u001b[39;00m _global_forward_hooks \u001b[38;5;129;01mor\u001b[39;00m _global_forward_pre_hooks):\n\u001b[0;32m-> 1541\u001b[0m     \u001b[38;5;28;01mreturn\u001b[39;00m \u001b[43mforward_call\u001b[49m\u001b[43m(\u001b[49m\u001b[38;5;241;43m*\u001b[39;49m\u001b[43margs\u001b[49m\u001b[43m,\u001b[49m\u001b[43m \u001b[49m\u001b[38;5;241;43m*\u001b[39;49m\u001b[38;5;241;43m*\u001b[39;49m\u001b[43mkwargs\u001b[49m\u001b[43m)\u001b[49m\n\u001b[1;32m   1543\u001b[0m \u001b[38;5;28;01mtry\u001b[39;00m:\n\u001b[1;32m   1544\u001b[0m     result \u001b[38;5;241m=\u001b[39m \u001b[38;5;28;01mNone\u001b[39;00m\n",
      "File \u001b[0;32m~/anaconda3/envs/Mass_Spec/lib/python3.11/site-packages/torch/nn/modules/conv.py:310\u001b[0m, in \u001b[0;36mConv1d.forward\u001b[0;34m(self, input)\u001b[0m\n\u001b[1;32m    309\u001b[0m \u001b[38;5;28;01mdef\u001b[39;00m \u001b[38;5;21mforward\u001b[39m(\u001b[38;5;28mself\u001b[39m, \u001b[38;5;28minput\u001b[39m: Tensor) \u001b[38;5;241m-\u001b[39m\u001b[38;5;241m>\u001b[39m Tensor:\n\u001b[0;32m--> 310\u001b[0m     \u001b[38;5;28;01mreturn\u001b[39;00m \u001b[38;5;28;43mself\u001b[39;49m\u001b[38;5;241;43m.\u001b[39;49m\u001b[43m_conv_forward\u001b[49m\u001b[43m(\u001b[49m\u001b[38;5;28;43minput\u001b[39;49m\u001b[43m,\u001b[49m\u001b[43m \u001b[49m\u001b[38;5;28;43mself\u001b[39;49m\u001b[38;5;241;43m.\u001b[39;49m\u001b[43mweight\u001b[49m\u001b[43m,\u001b[49m\u001b[43m \u001b[49m\u001b[38;5;28;43mself\u001b[39;49m\u001b[38;5;241;43m.\u001b[39;49m\u001b[43mbias\u001b[49m\u001b[43m)\u001b[49m\n",
      "File \u001b[0;32m~/anaconda3/envs/Mass_Spec/lib/python3.11/site-packages/torch/nn/modules/conv.py:306\u001b[0m, in \u001b[0;36mConv1d._conv_forward\u001b[0;34m(self, input, weight, bias)\u001b[0m\n\u001b[1;32m    302\u001b[0m \u001b[38;5;28;01mif\u001b[39;00m \u001b[38;5;28mself\u001b[39m\u001b[38;5;241m.\u001b[39mpadding_mode \u001b[38;5;241m!=\u001b[39m \u001b[38;5;124m'\u001b[39m\u001b[38;5;124mzeros\u001b[39m\u001b[38;5;124m'\u001b[39m:\n\u001b[1;32m    303\u001b[0m     \u001b[38;5;28;01mreturn\u001b[39;00m F\u001b[38;5;241m.\u001b[39mconv1d(F\u001b[38;5;241m.\u001b[39mpad(\u001b[38;5;28minput\u001b[39m, \u001b[38;5;28mself\u001b[39m\u001b[38;5;241m.\u001b[39m_reversed_padding_repeated_twice, mode\u001b[38;5;241m=\u001b[39m\u001b[38;5;28mself\u001b[39m\u001b[38;5;241m.\u001b[39mpadding_mode),\n\u001b[1;32m    304\u001b[0m                     weight, bias, \u001b[38;5;28mself\u001b[39m\u001b[38;5;241m.\u001b[39mstride,\n\u001b[1;32m    305\u001b[0m                     _single(\u001b[38;5;241m0\u001b[39m), \u001b[38;5;28mself\u001b[39m\u001b[38;5;241m.\u001b[39mdilation, \u001b[38;5;28mself\u001b[39m\u001b[38;5;241m.\u001b[39mgroups)\n\u001b[0;32m--> 306\u001b[0m \u001b[38;5;28;01mreturn\u001b[39;00m \u001b[43mF\u001b[49m\u001b[38;5;241;43m.\u001b[39;49m\u001b[43mconv1d\u001b[49m\u001b[43m(\u001b[49m\u001b[38;5;28;43minput\u001b[39;49m\u001b[43m,\u001b[49m\u001b[43m \u001b[49m\u001b[43mweight\u001b[49m\u001b[43m,\u001b[49m\u001b[43m \u001b[49m\u001b[43mbias\u001b[49m\u001b[43m,\u001b[49m\u001b[43m \u001b[49m\u001b[38;5;28;43mself\u001b[39;49m\u001b[38;5;241;43m.\u001b[39;49m\u001b[43mstride\u001b[49m\u001b[43m,\u001b[49m\n\u001b[1;32m    307\u001b[0m \u001b[43m                \u001b[49m\u001b[38;5;28;43mself\u001b[39;49m\u001b[38;5;241;43m.\u001b[39;49m\u001b[43mpadding\u001b[49m\u001b[43m,\u001b[49m\u001b[43m \u001b[49m\u001b[38;5;28;43mself\u001b[39;49m\u001b[38;5;241;43m.\u001b[39;49m\u001b[43mdilation\u001b[49m\u001b[43m,\u001b[49m\u001b[43m \u001b[49m\u001b[38;5;28;43mself\u001b[39;49m\u001b[38;5;241;43m.\u001b[39;49m\u001b[43mgroups\u001b[49m\u001b[43m)\u001b[49m\n",
      "\u001b[0;31mKeyboardInterrupt\u001b[0m: "
     ]
    }
   ],
   "source": [
    "num_epochs = 100\n",
    "device = torch.device(\"cuda\" if torch.cuda.is_available() else \"cpu\")\n",
    "model.to(device)\n",
    "\n",
    "for epoch in range(num_epochs):\n",
    "    epoch_loss = 0\n",
    "    epoch_accuracy = 0\n",
    "    # Training\n",
    "    model.train()\n",
    "    for batch_data, batch_labels in train_loader:\n",
    "        batch_data, batch_labels = batch_data.to(device), batch_labels.to(device)\n",
    "        optimizer.zero_grad()\n",
    "        outputs = model(batch_data)\n",
    "        loss = criterion(outputs, batch_labels)\n",
    "        epoch_loss += loss.item()\n",
    "        loss.backward()\n",
    "        optimizer.step()\n",
    "        \n",
    "        predictions = outputs.detach() >= 0.5\n",
    "        accuracy = torch.mean(torch.all(predictions == batch_labels, dim=1).float())\n",
    "        epoch_accuracy += accuracy.item()\n",
    "\n",
    "    epoch_loss /= len(train_loader)\n",
    "    epoch_losses.append(epoch_loss)\n",
    "    epoch_accuracy /= len(train_loader)\n",
    "    epoch_accuracies.append(epoch_accuracy)\n",
    "\n",
    "\n",
    "    # Print the loss and accuracy every 100 epochs\n",
    "    print(f\"Epoch [{epoch+1}/{num_epochs}], Loss: {epoch_loss:.4f}, Accuracy: {epoch_accuracy:.2f}%\")\n",
    "     \n",
    "    if (epoch + 1) % 10 == 0:\n",
    "        torch.save(model.state_dict(), \"spectral_net_model.pth\") ## save the model every 100 epochs\n",
    "        print(\"Saved model to:\", \"spectral_net_model.pth\")   "
   ]
  },
  {
   "cell_type": "code",
   "execution_count": 114,
   "metadata": {},
   "outputs": [
    {
     "ename": "TypeError",
     "evalue": "SpectraMatrixNet.forward() missing 1 required positional argument: 'matrix'",
     "output_type": "error",
     "traceback": [
      "\u001b[0;31m---------------------------------------------------------------------------\u001b[0m",
      "\u001b[0;31mTypeError\u001b[0m                                 Traceback (most recent call last)",
      "Cell \u001b[0;32mIn[114], line 15\u001b[0m\n\u001b[1;32m     13\u001b[0m \u001b[38;5;28;01mwith\u001b[39;00m torch\u001b[38;5;241m.\u001b[39mno_grad():  \u001b[38;5;66;03m# No need to track gradients during validation\u001b[39;00m\n\u001b[1;32m     14\u001b[0m     \u001b[38;5;28;01mfor\u001b[39;00m spectra_val, matrix_val \u001b[38;5;129;01min\u001b[39;00m val_loader:\n\u001b[0;32m---> 15\u001b[0m         predicted_matrices \u001b[38;5;241m=\u001b[39m \u001b[43mmodel\u001b[49m\u001b[43m(\u001b[49m\u001b[43mspectra_val\u001b[49m\u001b[43m)\u001b[49m\n\u001b[1;32m     16\u001b[0m         loss \u001b[38;5;241m=\u001b[39m criterion(predicted_matrices, matrix_val)\n\u001b[1;32m     17\u001b[0m         validation_loss \u001b[38;5;241m+\u001b[39m\u001b[38;5;241m=\u001b[39m loss\u001b[38;5;241m.\u001b[39mitem()\n",
      "File \u001b[0;32m~/anaconda3/envs/Mass_Spec/lib/python3.11/site-packages/torch/nn/modules/module.py:1532\u001b[0m, in \u001b[0;36mModule._wrapped_call_impl\u001b[0;34m(self, *args, **kwargs)\u001b[0m\n\u001b[1;32m   1530\u001b[0m     \u001b[38;5;28;01mreturn\u001b[39;00m \u001b[38;5;28mself\u001b[39m\u001b[38;5;241m.\u001b[39m_compiled_call_impl(\u001b[38;5;241m*\u001b[39margs, \u001b[38;5;241m*\u001b[39m\u001b[38;5;241m*\u001b[39mkwargs)  \u001b[38;5;66;03m# type: ignore[misc]\u001b[39;00m\n\u001b[1;32m   1531\u001b[0m \u001b[38;5;28;01melse\u001b[39;00m:\n\u001b[0;32m-> 1532\u001b[0m     \u001b[38;5;28;01mreturn\u001b[39;00m \u001b[38;5;28;43mself\u001b[39;49m\u001b[38;5;241;43m.\u001b[39;49m\u001b[43m_call_impl\u001b[49m\u001b[43m(\u001b[49m\u001b[38;5;241;43m*\u001b[39;49m\u001b[43margs\u001b[49m\u001b[43m,\u001b[49m\u001b[43m \u001b[49m\u001b[38;5;241;43m*\u001b[39;49m\u001b[38;5;241;43m*\u001b[39;49m\u001b[43mkwargs\u001b[49m\u001b[43m)\u001b[49m\n",
      "File \u001b[0;32m~/anaconda3/envs/Mass_Spec/lib/python3.11/site-packages/torch/nn/modules/module.py:1541\u001b[0m, in \u001b[0;36mModule._call_impl\u001b[0;34m(self, *args, **kwargs)\u001b[0m\n\u001b[1;32m   1536\u001b[0m \u001b[38;5;66;03m# If we don't have any hooks, we want to skip the rest of the logic in\u001b[39;00m\n\u001b[1;32m   1537\u001b[0m \u001b[38;5;66;03m# this function, and just call forward.\u001b[39;00m\n\u001b[1;32m   1538\u001b[0m \u001b[38;5;28;01mif\u001b[39;00m \u001b[38;5;129;01mnot\u001b[39;00m (\u001b[38;5;28mself\u001b[39m\u001b[38;5;241m.\u001b[39m_backward_hooks \u001b[38;5;129;01mor\u001b[39;00m \u001b[38;5;28mself\u001b[39m\u001b[38;5;241m.\u001b[39m_backward_pre_hooks \u001b[38;5;129;01mor\u001b[39;00m \u001b[38;5;28mself\u001b[39m\u001b[38;5;241m.\u001b[39m_forward_hooks \u001b[38;5;129;01mor\u001b[39;00m \u001b[38;5;28mself\u001b[39m\u001b[38;5;241m.\u001b[39m_forward_pre_hooks\n\u001b[1;32m   1539\u001b[0m         \u001b[38;5;129;01mor\u001b[39;00m _global_backward_pre_hooks \u001b[38;5;129;01mor\u001b[39;00m _global_backward_hooks\n\u001b[1;32m   1540\u001b[0m         \u001b[38;5;129;01mor\u001b[39;00m _global_forward_hooks \u001b[38;5;129;01mor\u001b[39;00m _global_forward_pre_hooks):\n\u001b[0;32m-> 1541\u001b[0m     \u001b[38;5;28;01mreturn\u001b[39;00m \u001b[43mforward_call\u001b[49m\u001b[43m(\u001b[49m\u001b[38;5;241;43m*\u001b[39;49m\u001b[43margs\u001b[49m\u001b[43m,\u001b[49m\u001b[43m \u001b[49m\u001b[38;5;241;43m*\u001b[39;49m\u001b[38;5;241;43m*\u001b[39;49m\u001b[43mkwargs\u001b[49m\u001b[43m)\u001b[49m\n\u001b[1;32m   1543\u001b[0m \u001b[38;5;28;01mtry\u001b[39;00m:\n\u001b[1;32m   1544\u001b[0m     result \u001b[38;5;241m=\u001b[39m \u001b[38;5;28;01mNone\u001b[39;00m\n",
      "\u001b[0;31mTypeError\u001b[0m: SpectraMatrixNet.forward() missing 1 required positional argument: 'matrix'"
     ]
    }
   ],
   "source": [
    "def accuracy(predicted, target):\n",
    "    \"\"\"supposedly checks accuracy but dont think it works for this case\"\"\"\n",
    "    return torch.mean((predicted == target).float())\n",
    "\n",
    "torch.load('best_model_weights_softplus.pt')\n",
    "\n",
    "\n",
    "model.eval()  # Set the model to evaluation mode\n",
    "validation_loss = 0.0\n",
    "val_accuracy = 0.0\n",
    "criterion = nn.MSELoss()\n",
    "\n",
    "with torch.no_grad():  # No need to track gradients during validation\n",
    "    for spectra_val, matrix_val in val_loader:\n",
    "        predicted_matrices = model(spectra_val)\n",
    "        loss = criterion(predicted_matrices, matrix_val)\n",
    "        validation_loss += loss.item()\n",
    "        val_accuracy += accuracy(predicted_matrices, matrix_val)\n",
    "\n",
    "loss /= len(val_loader)\n",
    "val_accuracy += accuracy(predicted_matrices, matrix_val)\n",
    "\n",
    "\n",
    "\n",
    "# Calculate average loss over all validation batches\n",
    "average_validation_loss = validation_loss / len(val_loader)\n",
    "print(f'Average Validation Loss: {average_validation_loss}, Validation Accuracy: {val_accuracy:.4f}')\n",
    "print(f\"Predicted matrix shape: {predicted_matrices.shape}\")\n",
    "print(f\"Target matrix shape: {matrix_val.shape}\")"
   ]
  },
  {
   "cell_type": "markdown",
   "metadata": {},
   "source": []
  },
  {
   "cell_type": "code",
   "execution_count": 111,
   "metadata": {},
   "outputs": [
    {
     "name": "stdout",
     "output_type": "stream",
     "text": [
      "Px: tensor([[0., 2., 0., 2., 1., 3.],\n",
      "        [0., 5., 4., 0., 0., 3.],\n",
      "        [0., 0., 0., 5., 6., 0.],\n",
      "        [4., 0., 1., 2., 0., 3.],\n",
      "        [0., 5., 4., 0., 0., 5.],\n",
      "        [6., 0., 0., 1., 5., 5.]])\n",
      "Tx: tensor([[0., 2., 0., 3., 1., 3.],\n",
      "        [0., 5., 4., 0., 0., 3.],\n",
      "        [0., 0., 0., 5., 6., 0.],\n",
      "        [4., 0., 1., 2., 0., 3.],\n",
      "        [0., 5., 4., 0., 0., 5.],\n",
      "        [6., 0., 0., 1., 5., 5.]])\n"
     ]
    },
    {
     "data": {
      "text/plain": [
       "False"
      ]
     },
     "execution_count": 111,
     "metadata": {},
     "output_type": "execute_result"
    }
   ],
   "source": [
    "print(f\"Px: {torch.round(predicted_matrices[1])}\")\n",
    "print(f\"Tx: {matrix_val[1]}\")\n",
    "\n",
    "\n",
    "torch.equal(torch.round(predicted_matrices[1]), matrix_val[1])\n"
   ]
  },
  {
   "cell_type": "code",
   "execution_count": 113,
   "metadata": {},
   "outputs": [
    {
     "data": {
      "text/plain": [
       "<matplotlib.image.AxesImage at 0x3266c6690>"
      ]
     },
     "execution_count": 113,
     "metadata": {},
     "output_type": "execute_result"
    },
    {
     "data": {
      "image/png": "[encoded data removed]",
      "text/plain": [
       "<Figure size 480x480 with 1 Axes>"
      ]
     },
     "metadata": {},
     "output_type": "display_data"
    },
    {
     "data": {
      "image/png": "[encoded data removed]",
      "text/plain": [
       "<Figure size 480x480 with 1 Axes>"
      ]
     },
     "metadata": {},
     "output_type": "display_data"
    }
   ],
   "source": [
    "plt.matshow(predicted_matrices[6].detach().numpy())\n",
    "plt.matshow(matrix_val[6].detach().numpy())\n"
   ]
  },
  {
   "cell_type": "markdown",
   "metadata": {},
   "source": [
    "Couple things to do - need to go back to Y=W.H and make sure that when shuffeling that H attahced so that i can go back to the actual spectra also. Then can actually check the spectra\n",
    "\n",
    "nevermind. i gave themodel with answers lol\n",
    "\n",
    "moving on\n"
   ]
  },
  {
   "cell_type": "code",
   "execution_count": 123,
   "metadata": {},
   "outputs": [
    {
     "name": "stdout",
     "output_type": "stream",
     "text": [
      "tensor([[[0, 1, 0, 0, 0, 0, 0, 0, 0, 0],\n",
      "         [0, 0, 1, 0, 0, 0, 0, 0, 0, 0],\n",
      "         [0, 0, 0, 1, 0, 0, 0, 0, 0, 0]],\n",
      "\n",
      "        [[0, 0, 0, 0, 1, 0, 0, 0, 0, 0],\n",
      "         [0, 0, 0, 0, 0, 1, 0, 0, 0, 0],\n",
      "         [0, 0, 0, 0, 0, 0, 1, 0, 0, 0]],\n",
      "\n",
      "        [[0, 0, 0, 0, 0, 0, 0, 1, 0, 0],\n",
      "         [0, 0, 0, 0, 0, 0, 0, 0, 1, 0],\n",
      "         [0, 0, 0, 0, 0, 0, 0, 0, 0, 1]]])\n"
     ]
    }
   ],
   "source": [
    "import torch \n",
    "import torch.nn.functional as Fun\n",
    "A = torch.tensor([[1, 2, 3], [4, 5, 6], [7, 8, 9]])\n",
    "output = Fun.one_hot(A)\n",
    "print(output)"
   ]
  },
  {
   "cell_type": "code",
   "execution_count": null,
   "metadata": {},
   "outputs": [],
   "source": []
  }
 ],
 "metadata": {
  "kernelspec": {
   "display_name": "Mass_Spec",
   "language": "python",
   "name": "python3"
  },
  "language_info": {
   "codemirror_mode": {
    "name": "ipython",
    "version": 3
   },
   "file_extension": ".py",
   "mimetype": "text/x-python",
   "name": "python",
   "nbconvert_exporter": "python",
   "pygments_lexer": "ipython3",
   "version": "3.11.9"
  }
 },
 "nbformat": 4,
 "nbformat_minor": 2
}
